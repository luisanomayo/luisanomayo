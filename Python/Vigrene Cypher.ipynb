  {
   "cell_type": "code",
   "execution_count": 12,
   "id": "044c8946",
   "metadata": {},
   "outputs": [
    {
     "data": {
      "text/plain": [
       "[1, 13, 5, 14, 1, 7, 8, 1, 23, 15, 14]"
      ]
     },
     "execution_count": 12,
     "metadata": {},
     "output_type": "execute_result"
    }
   ],
   "source": [
    "alpha_lowcap =  ' abcdefghijklmnopqrstuvwxyz'\n",
    "alpha_cap = ' ABCDEFGHIJKLMNOPQRSTUVWXYZ'\n",
    "\n",
    "low_alpha = 'abcdefghijklmnopqrstuvwxyz'\n",
    "cap_alpha = 'ABCDEFGHIJKLMNOPQRSTUVWXYZ'      \n",
    "\n",
    "def finding_key_index (key):\n",
    "    key_list = list(key)\n",
    "    key_index = []\n",
    "    for char in key_list:\n",
    "        if char in alpha_cap:\n",
    "            key_index.append(alpha_cap.find(char))\n",
    "        elif char in alpha_lowcap:\n",
    "            key_index.append(alpha_lowcap.find(char))\n",
    "    return key_index\n",
    "plain_text = 'amenaghawon'\n",
    "finding_key_index(plain_text)"
   ]
  },
  {
   "cell_type": "code",
   "execution_count": null,
   "id": "4fab911c",
   "metadata": {},
   "outputs": [],
   "source": []
  }
 ],
 "metadata": {
  "kernelspec": {
   "display_name": "Python 3 (ipykernel)",
   "language": "python",
   "name": "python3"
  },
  "language_info": {
   "codemirror_mode": {
    "name": "ipython",
    "version": 3
   },
   "file_extension": ".py",
   "mimetype": "text/x-python",
   "name": "python",
   "nbconvert_exporter": "python",
   "pygments_lexer": "ipython3",
   "version": "3.9.7"
  }
 },
 "nbformat": 4,
 "nbformat_minor": 5
}
